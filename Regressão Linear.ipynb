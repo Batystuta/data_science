{
 "cells": [
  {
   "cell_type": "markdown",
   "metadata": {},
   "source": [
    "### Regressão Linear: Conceitos e Implementação com Python\n",
    "\n",
    "O objetivo da tarefa de regressão é estimar um valor a partir do relacionamento de duas ou mais variáveis. Por exemplo, qual a relação de características como área, quantidade de quartos e localização com o valor de um imóvel?\n",
    "\n",
    "![Python](img/regressao/relacao.jpg)\n",
    "\n",
    "Essa relação é representada por uma equação matemática, onde a previsão é realizada calculando a soma ponderada das características de entrada, mais uma constante chamada __coeficiente linear__.\n",
    "\n",
    "$$\n",
    "\\hat{y} = \\theta_{0} + \\theta_{1}x_{1} + \\theta_{2}x_{2} + \\cdots + \\theta_{n}x_{n}\n",
    "$$\n",
    "\n",
    "* $\\hat{y}$ é o valor previsto;\n",
    "* n é o número de características;\n",
    "* $x_{i}$ é o valor da i-ésima característica;\n",
    "* $\\theta_{0}$ é o coeficiente linear, valor onde a reta corta o eixo das ordenadas (y);\n",
    "* $\\theta_{i}$ é o peso da i-ésima característica.\n",
    "\n",
    "A equação anterior pode ser escrita na forma vetorizada:\n",
    "\n",
    "$$\\hat{y} = h_{0}(x) = \\theta^T.x$$ \n",
    "\n",
    "* $\\theta$ é o vetor de parâmetro do modelo ($\\theta_{0}, \\theta_{1}, \\cdots, \\theta_{n}$);\n",
    "* $\\theta^T$ é a transposição de $\\theta$;\n",
    "* $x$ é o vetor de características ($x_{0}, x_{1}, \\cdots, x_{n}$);\n",
    "* $h_{\\theta}$ é a função de hipótese."
   ]
  },
  {
   "cell_type": "markdown",
   "metadata": {},
   "source": [
    "Ao treinar um modelo de regressão linear, estamos interessados em obter o valor de $\\theta$ que minimize a função de custo. Uma função de custo tipicamente utilizada em problemas de regressão é o **MSE (Erro Quadrático Médio)**:  \n",
    "\n",
    "$$\\mathrm{MSE} (X,h_{\\theta}) = \\dfrac{1}{m} \\sum_{i = 1}^{m} (\\theta^T . x^{(i)} - y^{i})^2$$  \n",
    "\n",
    "* $m$ é o número de instâncias no conjunto de dados.\n",
    "* $\\theta^T$ é a transposição do vetor de parâmetro do modelo;\n",
    "* $x^{(i)}$ é o vetor contendo os valores das características e $y^i$ seus respectivos rótulos.\n",
    "* $X$ é uma matriz das características.\n",
    "* $h_{\\theta}$ é a função de hipótese.\n",
    "\n",
    "O **Erro Quadrático Médio** nos informa a que distância a reta de regressão está do conjunto de dados. Calculando o erro (distância entre os pontos e a reta) e elevando ao quadrado (para remover sinais negativos), dando maior peso para grandes erros. A reta com o melhor ajuste possível é a que fornece o menor erro quadrático médio.\n",
    "\n",
    "![MSE](img/regressao/mse.jpg)"
   ]
  },
  {
   "cell_type": "markdown",
   "metadata": {},
   "source": [
    "Para encontrar o valor de $\\theta$ que minimize a função MSE, existe o **Método dos Mínimos Quadrados**:  \n",
    "\n",
    "\n",
    "$$\\hat{\\theta} = (X^T.X)^{-1}.X^T.y$$  \n",
    "\n",
    "* $\\hat{\\theta}$ é o valor de $\\theta$ que minimiza a função custo.\n",
    "* $y$ é o vetor dos valores do alvo.\n"
   ]
  },
  {
   "cell_type": "markdown",
   "metadata": {},
   "source": [
    "Vamos gerar um conjunto de dados lineares e calcular $\\hat{\\theta}$ usando o Método dos Mínimos Quadrados."
   ]
  },
  {
   "cell_type": "code",
   "execution_count": 5,
   "metadata": {},
   "outputs": [
    {
     "data": {
      "image/png": "[encoded data removed]",
      "text/plain": [
       "<Figure size 432x288 with 1 Axes>"
      ]
     },
     "metadata": {
      "needs_background": "light"
     },
     "output_type": "display_data"
    }
   ],
   "source": [
    "import numpy as np\n",
    "import matplotlib.pyplot as plt\n",
    "\n",
    "X = 2 * np.random.rand(100, 1)\n",
    "y = 4 + 3 * X + np.random.randn(100, 1)\n",
    "\n",
    "plt.plot(X, y, \"b.\")\n",
    "plt.axis([0, 2, 0, 15])\n",
    "plt.show()"
   ]
  },
  {
   "cell_type": "markdown",
   "metadata": {},
   "source": [
    "y = 4 + 3x, equação reta reduzida, theta0 e theta1"
   ]
  },
  {
   "cell_type": "markdown",
   "metadata": {},
   "source": [
    "Nosso objetivo é encontrar a reta que melhor se ajusta ao nosso conjunto de treinamento. Esta reta é definida pela equação:  \n",
    "\n",
    "$$y = \\theta_{0} + \\theta_{1} + \\varepsilon $$  \n",
    "\n",
    "* $\\theta_{0}$ é o coeficiente linear.\n",
    "* $\\theta_{1}$ é o coeficiente angular.\n",
    "* $\\varepsilon$ é o ruído gaussiano.\n",
    "    \n",
    "Vamos obter $\\theta_{0}$ e $\\theta_{1}$ através do **Método dos Mínimos Quadrados**:"
   ]
  },
  {
   "cell_type": "code",
   "execution_count": 15,
   "metadata": {},
   "outputs": [
    {
     "data": {
      "text/plain": [
       "array([[3.92621827],\n",
       "       [3.07656241]])"
      ]
     },
     "execution_count": 15,
     "metadata": {},
     "output_type": "execute_result"
    }
   ],
   "source": [
    "X_b = np.c_[np.ones((100, 1)), X]\n",
    "theta_param = np.linalg.inv(X_b.T.dot(X_b)).dot(X_b.T).dot(y) #Método Mínimo Quadrado\n",
    "theta_param"
   ]
  },
  {
   "cell_type": "markdown",
   "metadata": {},
   "source": [
    "Obtemos $\\theta_{0}$ = 3.926 e $\\theta_{1}$ = 3.076. A equação utilizada para gerar os dados foi $y = 4 + 3x$, a diferença entre o valor utilizado e o obtido é causado pelo ruído gaussiano."
   ]
  },
  {
   "cell_type": "markdown",
   "metadata": {},
   "source": [
    "Agora que temos $\\hat{\\theta}$, podemos fazer previsões:"
   ]
  },
  {
   "cell_type": "code",
   "execution_count": 20,
   "metadata": {},
   "outputs": [
    {
     "data": {
      "text/plain": [
       "array([[ 3.92621827],\n",
       "       [10.07934308]])"
      ]
     },
     "execution_count": 20,
     "metadata": {},
     "output_type": "execute_result"
    }
   ],
   "source": [
    "X_new = np.array([[0], [2]])\n",
    "X_new_b = np.c_[np.ones((2, 1)), X_new]\n",
    "y_predict = X_new_b.dot(theta_param)\n",
    "y_predict\n"
   ]
  },
  {
   "cell_type": "markdown",
   "metadata": {},
   "source": [
    "Vamos plotar as previsões do modelo:"
   ]
  },
  {
   "cell_type": "code",
   "execution_count": 32,
   "metadata": {},
   "outputs": [
    {
     "data": {
      "image/png": "[encoded data removed]",
      "text/plain": [
       "<Figure size 432x288 with 1 Axes>"
      ]
     },
     "metadata": {
      "needs_background": "light"
     },
     "output_type": "display_data"
    }
   ],
   "source": [
    "plt.plot(X_new, y_predict, \"r-\")\n",
    "plt.plot(X, y, \"b.\")\n",
    "plt.axis([0, 2, 0, 15])\n",
    "plt.show()"
   ]
  },
  {
   "cell_type": "markdown",
   "metadata": {},
   "source": [
    "Aplicando o modelo de regressão linear simples utilizando a biblioteca Scikit-Learn:"
   ]
  },
  {
   "cell_type": "code",
   "execution_count": 25,
   "metadata": {},
   "outputs": [
    {
     "data": {
      "text/plain": [
       "LinearRegression(copy_X=True, fit_intercept=True, n_jobs=None,\n",
       "         normalize=False)"
      ]
     },
     "execution_count": 25,
     "metadata": {},
     "output_type": "execute_result"
    }
   ],
   "source": [
    "from sklearn.linear_model import LinearRegression\n",
    "\n",
    "linear_reg = LinearRegression()\n",
    "linear_reg.fit(X, y)"
   ]
  },
  {
   "cell_type": "code",
   "execution_count": 29,
   "metadata": {},
   "outputs": [
    {
     "data": {
      "text/plain": [
       "array([3.92621827])"
      ]
     },
     "execution_count": 29,
     "metadata": {},
     "output_type": "execute_result"
    }
   ],
   "source": [
    "linear_reg.intercept_ #coeficiente linear"
   ]
  },
  {
   "cell_type": "code",
   "execution_count": 28,
   "metadata": {},
   "outputs": [
    {
     "data": {
      "text/plain": [
       "array([[3.07656241]])"
      ]
     },
     "execution_count": 28,
     "metadata": {},
     "output_type": "execute_result"
    }
   ],
   "source": [
    "linear_reg.coef_ #coeficiente angular"
   ]
  },
  {
   "cell_type": "code",
   "execution_count": 30,
   "metadata": {},
   "outputs": [
    {
     "data": {
      "text/plain": [
       "array([[ 3.92621827],\n",
       "       [10.07934308]])"
      ]
     },
     "execution_count": 30,
     "metadata": {},
     "output_type": "execute_result"
    }
   ],
   "source": [
    "linear_reg.predict(X_new)"
   ]
  },
  {
   "cell_type": "markdown",
   "metadata": {},
   "source": [
    "A complexidade computacional ao treinar um modelo de Regressão Linear utilizando o Método dos Mínimos Quadrados é linear em relação ao número de instâncias e características. Dessa forma, ao dobrar a quantidade de instâncias que desejamos prever, iremos dobrar o tempo necessário para realizar a previsão."
   ]
  },
  {
   "cell_type": "markdown",
   "metadata": {},
   "source": [
    "Ficou com dúvida em relação à algum conceito de álgebra linear?  \n",
    "**[Acesse o material abaixo sobre Álgebra Linear com Python!](https://github.com/BrunoDorneles/data_science/blob/master/%C3%81lgebra%20Linear%20com%20Python%20e%20Numpy.ipynb)**"
   ]
  },
  {
   "cell_type": "markdown",
   "metadata": {},
   "source": [
    "### Referências\n",
    "* [Mãos à Obra: Aprendizado de Máquina com Scikit-Learn & TensorFlow](https://www.amazon.com.br/M%C3%A3os-Obra-Aprendizado-Scikit-Learn-TensorFlow/dp/8550803812)**  \n",
    "* [Sigmoidal](https://sigmoidal.ai/como-implementar-regressao-linear-com-python/)**  \n",
    "* [Statistics How To: Mean Squared Error](https://www.statisticshowto.datasciencecentral.com/mean-squared-error/)**  \n",
    "* [Towards Data Science: Why Mean Square Error?](https://towardsdatascience.com/https-medium-com-chayankathuria-regression-why-mean-square-error-a8cad2a1c96f)**\n",
    "\n",
    "\n",
    "\n"
   ]
  },
  {
   "cell_type": "code",
   "execution_count": null,
   "metadata": {},
   "outputs": [],
   "source": []
  }
 ],
 "metadata": {
  "kernelspec": {
   "display_name": "Python 3",
   "language": "python",
   "name": "python3"
  },
  "language_info": {
   "codemirror_mode": {
    "name": "ipython",
    "version": 3
   },
   "file_extension": ".py",
   "mimetype": "text/x-python",
   "name": "python",
   "nbconvert_exporter": "python",
   "pygments_lexer": "ipython3",
   "version": "3.7.1"
  }
 },
 "nbformat": 4,
 "nbformat_minor": 2
}
